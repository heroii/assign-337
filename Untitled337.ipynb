{
 "cells": [
  {
   "cell_type": "code",
   "execution_count": 1,
   "id": "74c73097-9f75-4c9a-9eea-7276b20cc937",
   "metadata": {},
   "outputs": [],
   "source": [
    "#q1\n",
    "# statistics is a branch of collecting ,organnizing and intrepreting data"
   ]
  },
  {
   "cell_type": "code",
   "execution_count": 2,
   "id": "ce7e60f5-565e-4036-b0f5-cc2e57b328d4",
   "metadata": {},
   "outputs": [],
   "source": [
    "#q2\n",
    "# two types of statistics is inferential and descriptive\n",
    "#descrptive stats is related with the organizing the data collected\n",
    "# inferential stats is related with drawing conclusions from the data"
   ]
  },
  {
   "cell_type": "code",
   "execution_count": 3,
   "id": "26c9c0d7-81cf-4615-99cb-ba93afb23a5f",
   "metadata": {},
   "outputs": [],
   "source": [
    "#q3\n",
    "#the two types of data is qualitative and quantitative\n",
    "#qualitative data describes the characteristics of data\n",
    "#quantitaive data is nymber base it could be counted\n",
    "# ex  qualitative data (gender  either it is either Male or female)\n",
    "# eg quantitaive data ( weight of different individual)\n"
   ]
  },
  {
   "cell_type": "code",
   "execution_count": 4,
   "id": "3622448a-8ffb-42de-98dc-846dd87b421e",
   "metadata": {},
   "outputs": [],
   "source": [
    "#q4\n",
    "#1 qualitative\n",
    "#2 qualitative\n",
    "#3 quantitative\n",
    "#4 quantitative\n"
   ]
  },
  {
   "cell_type": "code",
   "execution_count": 5,
   "id": "7159c823-26ae-4ae5-8d95-d393add344b5",
   "metadata": {},
   "outputs": [],
   "source": [
    "#q5\n",
    "#Nominal: the data can only be categorized\n",
    "#eg gender\n",
    "#Ordinal: the data can be categorized and ranked\n",
    "# review on app\n",
    "#Interval: the data can be categorized, ranked, and evenly spaced\n",
    "#eg- temperature\n",
    "#Ratio: the data can be categorized, ranked, evenly spaced, and has a natural zero.\n",
    "#eg marks of students"
   ]
  },
  {
   "cell_type": "code",
   "execution_count": 6,
   "id": "e83bda42-c09f-4fce-9b50-c07760314a2e",
   "metadata": {},
   "outputs": [],
   "source": [
    "#Q6\n"
   ]
  },
  {
   "cell_type": "code",
   "execution_count": 7,
   "id": "526b9fd6-aeb7-4bdd-88f7-5e7a60bba069",
   "metadata": {},
   "outputs": [],
   "source": [
    "#q7\n",
    "#Nominal: the data can only be categorized\n",
    "#eg gender\n",
    "#Ordinal: the data can be categorized and ranked\n",
    "# review on app\n"
   ]
  },
  {
   "cell_type": "code",
   "execution_count": 8,
   "id": "360db65c-d7c7-4f81-9d28-76941c702a89",
   "metadata": {},
   "outputs": [],
   "source": [
    "#q8\n",
    "#histogram for the continuous data"
   ]
  },
  {
   "cell_type": "code",
   "execution_count": 9,
   "id": "0ef7d6be-036b-4b99-a229-cb5e61960e45",
   "metadata": {},
   "outputs": [],
   "source": [
    "#q9\n",
    "# two types of statistics is inferential and descriptive\n",
    "#descrptive stats is related with the organizing the data collected\n",
    "# inferential stats is related with drawing conclusions from the data\n",
    "#they are used in feature engineering to handle the missing values"
   ]
  },
  {
   "cell_type": "code",
   "execution_count": 10,
   "id": "f9df5b28-0a00-4ee7-aa42-99d9a2c56f4b",
   "metadata": {},
   "outputs": [
    {
     "data": {
      "text/plain": [
       "83.75"
      ]
     },
     "execution_count": 10,
     "metadata": {},
     "output_type": "execute_result"
    }
   ],
   "source": [
    "#10\n",
    "a=[1,2,3,4,52,3,4,601]\n",
    "import numpy as np\n",
    "np.mean(a)\n",
    "# mean gets a lot becaues of the outleirs"
   ]
  },
  {
   "cell_type": "code",
   "execution_count": 11,
   "id": "2dd9a9c1-e2db-4a64-bdc4-4d728ff9627c",
   "metadata": {},
   "outputs": [
    {
     "data": {
      "text/plain": [
       "3.5"
      ]
     },
     "execution_count": 11,
     "metadata": {},
     "output_type": "execute_result"
    }
   ],
   "source": [
    "np.median(a)\n",
    "#it handles the data with outliers and gives central tendency measure\n"
   ]
  },
  {
   "cell_type": "code",
   "execution_count": 13,
   "id": "e403041f-8273-4b6e-ad4c-3c3af7545343",
   "metadata": {},
   "outputs": [],
   "source": [
    "from scipy import stats"
   ]
  },
  {
   "cell_type": "code",
   "execution_count": 14,
   "id": "a5533e24-e79d-4756-892a-eb65e7fc03dd",
   "metadata": {},
   "outputs": [
    {
     "ename": "NameError",
     "evalue": "name 'scipy' is not defined",
     "output_type": "error",
     "traceback": [
      "\u001b[0;31m---------------------------------------------------------------------------\u001b[0m",
      "\u001b[0;31mNameError\u001b[0m                                 Traceback (most recent call last)",
      "Cell \u001b[0;32mIn[14], line 1\u001b[0m\n\u001b[0;32m----> 1\u001b[0m \u001b[43mscipy\u001b[49m\u001b[38;5;241m.\u001b[39mmode(a)\n",
      "\u001b[0;31mNameError\u001b[0m: name 'scipy' is not defined"
     ]
    }
   ],
   "source": [
    "scipy.mode(a)"
   ]
  },
  {
   "cell_type": "code",
   "execution_count": null,
   "id": "25392346-6e82-451b-a753-5380de5d7a06",
   "metadata": {},
   "outputs": [],
   "source": []
  }
 ],
 "metadata": {
  "kernelspec": {
   "display_name": "Python 3 (ipykernel)",
   "language": "python",
   "name": "python3"
  },
  "language_info": {
   "codemirror_mode": {
    "name": "ipython",
    "version": 3
   },
   "file_extension": ".py",
   "mimetype": "text/x-python",
   "name": "python",
   "nbconvert_exporter": "python",
   "pygments_lexer": "ipython3",
   "version": "3.10.8"
  }
 },
 "nbformat": 4,
 "nbformat_minor": 5
}
